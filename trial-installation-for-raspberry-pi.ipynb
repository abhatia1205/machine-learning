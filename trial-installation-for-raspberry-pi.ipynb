{
 "cells": [
  {
   "cell_type": "markdown",
   "metadata": {
    "_cell_guid": "6197af3f-fe84-4e2f-91c4-0b09a8850726",
    "_uuid": "14d4521dafb4e37d3f78bd90b09a8a3090c70130"
   },
   "source": [
    "# Fitting a Model With Data Augmentation"
   ]
  },
  {
   "cell_type": "code",
   "execution_count": 1,
   "metadata": {
    "_uuid": "c4e1bbbef576fde56ed1386c9fb87f78cf59df23"
   },
   "outputs": [
    {
     "name": "stdout",
     "output_type": "stream",
     "text": [
      "['F', 'V', 'Q', 'I', 'N', 'W', 'D', 'C', 'A', 'E', 'X', 'Y', 'K', 'O', 'L', 'P', 'del', 'R', 'B', 'G', 'Z', 'M', 'H', 'U', 'nothing', 'S', 'T', 'J', 'space']\n"
     ]
    }
   ],
   "source": [
    "import os\n",
    "print(os.listdir(\"../input/sohan-dataset-new/augmented asl 3/Augmented ASL 3\"))\n",
    "    \n",
    "    "
   ]
  },
  {
   "cell_type": "code",
   "execution_count": 2,
   "metadata": {
    "_cell_guid": "48880593-9f58-4bce-b534-9cde1410d87e",
    "_uuid": "f1ffff5bbc85908dbea5e10c7b143000f04f3f8a"
   },
   "outputs": [
    {
     "name": "stdout",
     "output_type": "stream",
     "text": [
      "Found 78300 images belonging to 29 classes.\n",
      "Found 8700 images belonging to 29 classes.\n"
     ]
    }
   ],
   "source": [
    "from tensorflow.python.keras.applications.resnet50 import preprocess_input\n",
    "from tensorflow.python.keras.preprocessing.image import ImageDataGenerator\n",
    "\n",
    "image_size = 64\n",
    "\n",
    "data_generator_with_aug = ImageDataGenerator(\n",
    "                                    samplewise_center=True, \n",
    "                                    samplewise_std_normalization=True,\n",
    "                                   width_shift_range = 0.1,\n",
    "                                   height_shift_range = 0.1,\n",
    "                                   validation_split = 0.1, rotation_range = 10,\n",
    "                                   zoom_range = 0.1)\n",
    "\n",
    "\n",
    "train_generator = data_generator_with_aug.flow_from_directory(\n",
    "        '../input/asl-alphabet/asl_alphabet_train/asl_alphabet_train',\n",
    "        target_size=(image_size, image_size),\n",
    "        batch_size=64,\n",
    "        class_mode='categorical', subset = 'training')\n",
    "\n",
    "validation_generator = data_generator_with_aug.flow_from_directory(\n",
    "        '../input/asl-alphabet/asl_alphabet_train/asl_alphabet_train',\n",
    "        target_size=(image_size, image_size),\n",
    "        class_mode='categorical', subset = 'validation')\n",
    "\n"
   ]
  },
  {
   "cell_type": "code",
   "execution_count": 3,
   "metadata": {
    "_uuid": "9005381d57506241e9d90e3f966508b2f6e3556a"
   },
   "outputs": [],
   "source": [
    "from tensorflow.python.keras.applications import ResNet50\n",
    "from tensorflow.python.keras.models import Sequential\n",
    "from tensorflow.python.keras.layers import Dense, Flatten, GlobalAveragePooling2D\n",
    "\n",
    "num_classes = 29\n",
    "resnet_weights_path = '../input/resnet50/resnet50_weights_tf_dim_ordering_tf_kernels_notop.h5'\n",
    "\n",
    "my_new_model = Sequential()\n",
    "my_new_model.add(ResNet50(include_top=False, pooling='avg', weights=resnet_weights_path))\n",
    "my_new_model.add(Dense(num_classes, activation='softmax'))\n",
    "\n",
    "# Say not to train first layer (ResNet) model. It is already trained\n",
    "my_new_model.layers[0].trainable = False\n",
    "\n",
    "my_new_model.compile(optimizer='sgd', loss='categorical_crossentropy', metrics=['accuracy'])"
   ]
  },
  {
   "cell_type": "code",
   "execution_count": 4,
   "metadata": {
    "_uuid": "c10e2057e16367c418b85feda3629ace6c04e275"
   },
   "outputs": [
    {
     "name": "stdout",
     "output_type": "stream",
     "text": [
      "Epoch 1/6\n",
      "10/10 [==============================] - 11s 1s/step - loss: 4.0820 - acc: 0.0391 - val_loss: 3.6270 - val_acc: 0.0328\n",
      "Epoch 2/6\n",
      "10/10 [==============================] - 4s 364ms/step - loss: 3.8700 - acc: 0.0687 - val_loss: 3.5686 - val_acc: 0.0406\n",
      "Epoch 3/6\n",
      "10/10 [==============================] - 4s 365ms/step - loss: 3.6936 - acc: 0.0594 - val_loss: 3.5440 - val_acc: 0.0516\n",
      "Epoch 4/6\n",
      "10/10 [==============================] - 4s 364ms/step - loss: 3.4364 - acc: 0.0953 - val_loss: 3.5619 - val_acc: 0.0359\n",
      "Epoch 5/6\n",
      "10/10 [==============================] - 4s 364ms/step - loss: 3.3424 - acc: 0.1187 - val_loss: 3.6499 - val_acc: 0.0312\n",
      "Epoch 6/6\n",
      "10/10 [==============================] - 4s 363ms/step - loss: 3.2480 - acc: 0.1484 - val_loss: 3.7465 - val_acc: 0.0234\n"
     ]
    },
    {
     "data": {
      "text/plain": [
       "<tensorflow.python.keras.callbacks.History at 0x7f56f76249e8>"
      ]
     },
     "execution_count": 4,
     "metadata": {},
     "output_type": "execute_result"
    }
   ],
   "source": [
    "my_new_model.fit_generator(\n",
    "        train_generator,\n",
    "        steps_per_epoch=10,\n",
    "        epochs=6,\n",
    "        validation_data=validation_generator, validation_steps = 20)"
   ]
  },
  {
   "cell_type": "code",
   "execution_count": 5,
   "metadata": {
    "_uuid": "eec0f2e93b25e5c794e572cea7636a59d2dac8cb"
   },
   "outputs": [],
   "source": [
    "my_new_model.save(\"trial.hdf5\")"
   ]
  },
  {
   "cell_type": "code",
   "execution_count": 6,
   "metadata": {
    "_uuid": "a8661141844786fc78ddae0401fe54be10ec38e8"
   },
   "outputs": [],
   "source": []
  }
 ],
 "metadata": {
  "kernelspec": {
   "display_name": "Python 3",
   "language": "python",
   "name": "python3"
  },
  "language_info": {
   "codemirror_mode": {
    "name": "ipython",
    "version": 3
   },
   "file_extension": ".py",
   "mimetype": "text/x-python",
   "name": "python",
   "nbconvert_exporter": "python",
   "pygments_lexer": "ipython3",
   "version": "3.6.6"
  }
 },
 "nbformat": 4,
 "nbformat_minor": 1
}
